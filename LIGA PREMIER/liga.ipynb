{
 "cells": [
  {
   "cell_type": "code",
   "execution_count": 2,
   "metadata": {},
   "outputs": [
    {
     "ename": "ModuleNotFoundError",
     "evalue": "No module named 'requests'",
     "output_type": "error",
     "traceback": [
      "\u001b[1;31m---------------------------------------------------------------------------\u001b[0m",
      "\u001b[1;31mModuleNotFoundError\u001b[0m                       Traceback (most recent call last)",
      "Cell \u001b[1;32mIn[2], line 1\u001b[0m\n\u001b[1;32m----> 1\u001b[0m \u001b[38;5;28;01mimport\u001b[39;00m \u001b[38;5;21;01mrequests\u001b[39;00m\n\u001b[0;32m      3\u001b[0m url \u001b[38;5;241m=\u001b[39m \u001b[38;5;124m\"\u001b[39m\u001b[38;5;124mhttps://premier-league-standings1.p.rapidapi.com/\u001b[39m\u001b[38;5;124m\"\u001b[39m\n\u001b[0;32m      5\u001b[0m headers \u001b[38;5;241m=\u001b[39m {\n\u001b[0;32m      6\u001b[0m \t\u001b[38;5;124m\"\u001b[39m\u001b[38;5;124mX-RapidAPI-Key\u001b[39m\u001b[38;5;124m\"\u001b[39m: \u001b[38;5;124m\"\u001b[39m\u001b[38;5;124mad19e9c691msh38e569ff9db4f62p16dce4jsna60233ddcddf\u001b[39m\u001b[38;5;124m\"\u001b[39m,\n\u001b[0;32m      7\u001b[0m \t\u001b[38;5;124m\"\u001b[39m\u001b[38;5;124mX-RapidAPI-Host\u001b[39m\u001b[38;5;124m\"\u001b[39m: \u001b[38;5;124m\"\u001b[39m\u001b[38;5;124mpremier-league-standings1.p.rapidapi.com\u001b[39m\u001b[38;5;124m\"\u001b[39m\n\u001b[0;32m      8\u001b[0m }\n",
      "\u001b[1;31mModuleNotFoundError\u001b[0m: No module named 'requests'"
     ]
    }
   ],
   "source": [
    "import requests\n",
    "\n",
    "url = \"https://premier-league-standings1.p.rapidapi.com/\"\n",
    "\n",
    "headers = {\n",
    "\t\"X-RapidAPI-Key\": \"ad19e9c691msh38e569ff9db4f62p16dce4jsna60233ddcddf\",\n",
    "\t\"X-RapidAPI-Host\": \"premier-league-standings1.p.rapidapi.com\"\n",
    "}\n",
    "\n",
    "response = requests.get(url, headers=headers)\n",
    "\n",
    "print(response.json())"
   ]
  },
  {
   "cell_type": "code",
   "execution_count": 4,
   "metadata": {},
   "outputs": [
    {
     "name": "stdout",
     "output_type": "stream",
     "text": [
      "Collecting requests\n",
      "  Downloading requests-2.31.0-py3-none-any.whl.metadata (4.6 kB)\n",
      "Collecting charset-normalizer<4,>=2 (from requests)\n",
      "  Downloading charset_normalizer-3.3.2-cp311-cp311-win_amd64.whl.metadata (34 kB)\n",
      "Collecting idna<4,>=2.5 (from requests)\n",
      "  Downloading idna-3.6-py3-none-any.whl.metadata (9.9 kB)\n",
      "Collecting urllib3<3,>=1.21.1 (from requests)\n",
      "  Downloading urllib3-2.2.1-py3-none-any.whl.metadata (6.4 kB)\n",
      "Collecting certifi>=2017.4.17 (from requests)\n",
      "  Downloading certifi-2024.2.2-py3-none-any.whl.metadata (2.2 kB)\n",
      "Downloading requests-2.31.0-py3-none-any.whl (62 kB)\n",
      "   ---------------------------------------- 0.0/62.6 kB ? eta -:--:--\n",
      "   ------ --------------------------------- 10.2/62.6 kB ? eta -:--:--\n",
      "   ---------------------------------------- 62.6/62.6 kB 830.7 kB/s eta 0:00:00\n",
      "Downloading certifi-2024.2.2-py3-none-any.whl (163 kB)\n",
      "   ---------------------------------------- 0.0/163.8 kB ? eta -:--:--\n",
      "   ------------------------------------- -- 153.6/163.8 kB 3.1 MB/s eta 0:00:01\n",
      "   ---------------------------------------- 163.8/163.8 kB 2.0 MB/s eta 0:00:00\n",
      "Downloading charset_normalizer-3.3.2-cp311-cp311-win_amd64.whl (99 kB)\n",
      "   ---------------------------------------- 0.0/99.9 kB ? eta -:--:--\n",
      "   ---------------------------------------- 99.9/99.9 kB 5.6 MB/s eta 0:00:00\n",
      "Downloading idna-3.6-py3-none-any.whl (61 kB)\n",
      "   ---------------------------------------- 0.0/61.6 kB ? eta -:--:--\n",
      "   ---------------------------------------- 61.6/61.6 kB 3.2 MB/s eta 0:00:00\n",
      "Downloading urllib3-2.2.1-py3-none-any.whl (121 kB)\n",
      "   ---------------------------------------- 0.0/121.1 kB ? eta -:--:--\n",
      "   ---------------------------------------- 121.1/121.1 kB 6.9 MB/s eta 0:00:00\n",
      "Installing collected packages: urllib3, idna, charset-normalizer, certifi, requests\n",
      "Successfully installed certifi-2024.2.2 charset-normalizer-3.3.2 idna-3.6 requests-2.31.0 urllib3-2.2.1\n"
     ]
    }
   ],
   "source": [
    "!pip install requests"
   ]
  },
  {
   "cell_type": "code",
   "execution_count": 5,
   "metadata": {},
   "outputs": [
    {
     "name": "stdout",
     "output_type": "stream",
     "text": [
      "[{'team': {'name': 'Liverpool', 'logo': 'https://a.espncdn.com/i/teamlogos/soccer/500/364.png', 'abbreviation': 'LIV'}, 'stats': {'wins': 19, 'losses': 2, 'ties': 6, 'gamesPlayed': 27, 'goalsFor': 64, 'goalsAgainst': 25, 'points': 63, 'rank': 1, 'goalDifference': 39}}, {'team': {'name': 'Manchester City', 'logo': 'https://a.espncdn.com/i/teamlogos/soccer/500/382.png', 'abbreviation': 'MNC'}, 'stats': {'wins': 19, 'losses': 3, 'ties': 5, 'gamesPlayed': 27, 'goalsFor': 62, 'goalsAgainst': 27, 'points': 62, 'rank': 2, 'goalDifference': 35}}, {'team': {'name': 'Arsenal', 'logo': 'https://a.espncdn.com/i/teamlogos/soccer/500/359.png', 'abbreviation': 'ARS'}, 'stats': {'wins': 18, 'losses': 4, 'ties': 4, 'gamesPlayed': 26, 'goalsFor': 62, 'goalsAgainst': 23, 'points': 58, 'rank': 3, 'goalDifference': 39}}, {'team': {'name': 'Aston Villa', 'logo': 'https://a.espncdn.com/i/teamlogos/soccer/500/362.png', 'abbreviation': 'AVL'}, 'stats': {'wins': 17, 'losses': 6, 'ties': 4, 'gamesPlayed': 27, 'goalsFor': 59, 'goalsAgainst': 37, 'points': 55, 'rank': 4, 'goalDifference': 22}}, {'team': {'name': 'Tottenham Hotspur', 'logo': 'https://a.espncdn.com/i/teamlogos/soccer/500/367.png', 'abbreviation': 'TOT'}, 'stats': {'wins': 15, 'losses': 6, 'ties': 5, 'gamesPlayed': 26, 'goalsFor': 55, 'goalsAgainst': 39, 'points': 50, 'rank': 5, 'goalDifference': 16}}, {'team': {'name': 'Manchester United', 'logo': 'https://a.espncdn.com/i/teamlogos/soccer/500/360.png', 'abbreviation': 'MAN'}, 'stats': {'wins': 14, 'losses': 11, 'ties': 2, 'gamesPlayed': 27, 'goalsFor': 37, 'goalsAgainst': 39, 'points': 44, 'rank': 6, 'goalDifference': -2}}, {'team': {'name': 'West Ham United', 'logo': 'https://a.espncdn.com/i/teamlogos/soccer/500/371.png', 'abbreviation': 'WHU'}, 'stats': {'wins': 12, 'losses': 9, 'ties': 6, 'gamesPlayed': 27, 'goalsFor': 43, 'goalsAgainst': 47, 'points': 42, 'rank': 7, 'goalDifference': -4}}, {'team': {'name': 'Newcastle United', 'logo': 'https://a.espncdn.com/i/teamlogos/soccer/500/361.png', 'abbreviation': 'NEW'}, 'stats': {'wins': 12, 'losses': 11, 'ties': 4, 'gamesPlayed': 27, 'goalsFor': 57, 'goalsAgainst': 45, 'points': 40, 'rank': 8, 'goalDifference': 12}}, {'team': {'name': 'Brighton & Hove Albion', 'logo': 'https://a.espncdn.com/i/teamlogos/soccer/500/331.png', 'abbreviation': 'BHA'}, 'stats': {'wins': 10, 'losses': 8, 'ties': 9, 'gamesPlayed': 27, 'goalsFor': 49, 'goalsAgainst': 44, 'points': 39, 'rank': 9, 'goalDifference': 5}}, {'team': {'name': 'Wolverhampton Wanderers', 'logo': 'https://a.espncdn.com/i/teamlogos/soccer/500/380.png', 'abbreviation': 'WOL'}, 'stats': {'wins': 11, 'losses': 11, 'ties': 5, 'gamesPlayed': 27, 'goalsFor': 40, 'goalsAgainst': 43, 'points': 38, 'rank': 10, 'goalDifference': -3}}, {'team': {'name': 'Chelsea', 'logo': 'https://a.espncdn.com/i/teamlogos/soccer/500/363.png', 'abbreviation': 'CHE'}, 'stats': {'wins': 10, 'losses': 10, 'ties': 6, 'gamesPlayed': 26, 'goalsFor': 44, 'goalsAgainst': 43, 'points': 36, 'rank': 11, 'goalDifference': 1}}, {'team': {'name': 'Fulham', 'logo': 'https://a.espncdn.com/i/teamlogos/soccer/500/370.png', 'abbreviation': 'FUL'}, 'stats': {'wins': 10, 'losses': 12, 'ties': 5, 'gamesPlayed': 27, 'goalsFor': 39, 'goalsAgainst': 42, 'points': 35, 'rank': 12, 'goalDifference': -3}}, {'team': {'name': 'AFC Bournemouth', 'logo': 'https://a.espncdn.com/i/teamlogos/soccer/500/349.png', 'abbreviation': 'BOU'}, 'stats': {'wins': 8, 'losses': 11, 'ties': 7, 'gamesPlayed': 26, 'goalsFor': 35, 'goalsAgainst': 47, 'points': 31, 'rank': 13, 'goalDifference': -12}}, {'team': {'name': 'Crystal Palace', 'logo': 'https://a.espncdn.com/i/teamlogos/soccer/500/384.png', 'abbreviation': 'CRY'}, 'stats': {'wins': 7, 'losses': 13, 'ties': 7, 'gamesPlayed': 27, 'goalsFor': 32, 'goalsAgainst': 47, 'points': 28, 'rank': 14, 'goalDifference': -15}}, {'team': {'name': 'Brentford', 'logo': 'https://a.espncdn.com/i/teamlogos/soccer/500/337.png', 'abbreviation': 'BRE'}, 'stats': {'wins': 7, 'losses': 15, 'ties': 5, 'gamesPlayed': 27, 'goalsFor': 39, 'goalsAgainst': 50, 'points': 26, 'rank': 15, 'goalDifference': -11}}, {'team': {'name': 'Everton', 'logo': 'https://a.espncdn.com/i/teamlogos/soccer/500/368.png', 'abbreviation': 'EVE'}, 'stats': {'wins': 8, 'losses': 12, 'ties': 7, 'gamesPlayed': 27, 'goalsFor': 29, 'goalsAgainst': 37, 'points': 25, 'rank': 16, 'goalDifference': -8}}, {'team': {'name': 'Nottingham Forest', 'logo': 'https://a.espncdn.com/i/teamlogos/soccer/500/393.png', 'abbreviation': 'NFO'}, 'stats': {'wins': 6, 'losses': 15, 'ties': 6, 'gamesPlayed': 27, 'goalsFor': 34, 'goalsAgainst': 49, 'points': 24, 'rank': 17, 'goalDifference': -15}}, {'team': {'name': 'Luton Town', 'logo': 'https://a.espncdn.com/i/teamlogos/soccer/500/301.png', 'abbreviation': 'LTN'}, 'stats': {'wins': 5, 'losses': 16, 'ties': 5, 'gamesPlayed': 26, 'goalsFor': 37, 'goalsAgainst': 54, 'points': 20, 'rank': 18, 'goalDifference': -17}}, {'team': {'name': 'Burnley', 'logo': 'https://a.espncdn.com/i/teamlogos/soccer/500/379.png', 'abbreviation': 'BUR'}, 'stats': {'wins': 3, 'losses': 20, 'ties': 4, 'gamesPlayed': 27, 'goalsFor': 25, 'goalsAgainst': 60, 'points': 13, 'rank': 19, 'goalDifference': -35}}, {'team': {'name': 'Sheffield United', 'logo': 'https://a.espncdn.com/i/teamlogos/soccer/500/398.png', 'abbreviation': 'SHU'}, 'stats': {'wins': 3, 'losses': 19, 'ties': 4, 'gamesPlayed': 26, 'goalsFor': 22, 'goalsAgainst': 66, 'points': 13, 'rank': 20, 'goalDifference': -44}}]\n"
     ]
    }
   ],
   "source": [
    "import requests\n",
    "\n",
    "url = \"https://premier-league-standings1.p.rapidapi.com/\"\n",
    "\n",
    "headers = {\n",
    "\t\"X-RapidAPI-Key\": \"ad19e9c691msh38e569ff9db4f62p16dce4jsna60233ddcddf\",\n",
    "\t\"X-RapidAPI-Host\": \"premier-league-standings1.p.rapidapi.com\"\n",
    "}\n",
    "\n",
    "response = requests.get(url, headers=headers)\n",
    "\n",
    "print(response.json())"
   ]
  },
  {
   "cell_type": "code",
   "execution_count": 6,
   "metadata": {},
   "outputs": [
    {
     "data": {
      "text/plain": [
       "list"
      ]
     },
     "execution_count": 6,
     "metadata": {},
     "output_type": "execute_result"
    }
   ],
   "source": [
    "type(response.json())"
   ]
  },
  {
   "cell_type": "code",
   "execution_count": 8,
   "metadata": {},
   "outputs": [],
   "source": [
    "premierleague = response.json()"
   ]
  },
  {
   "cell_type": "code",
   "execution_count": 9,
   "metadata": {},
   "outputs": [
    {
     "name": "stdout",
     "output_type": "stream",
     "text": [
      "{'team': {'name': 'Liverpool', 'logo': 'https://a.espncdn.com/i/teamlogos/soccer/500/364.png', 'abbreviation': 'LIV'}, 'stats': {'wins': 19, 'losses': 2, 'ties': 6, 'gamesPlayed': 27, 'goalsFor': 64, 'goalsAgainst': 25, 'points': 63, 'rank': 1, 'goalDifference': 39}}\n",
      "{'team': {'name': 'Manchester City', 'logo': 'https://a.espncdn.com/i/teamlogos/soccer/500/382.png', 'abbreviation': 'MNC'}, 'stats': {'wins': 19, 'losses': 3, 'ties': 5, 'gamesPlayed': 27, 'goalsFor': 62, 'goalsAgainst': 27, 'points': 62, 'rank': 2, 'goalDifference': 35}}\n",
      "{'team': {'name': 'Arsenal', 'logo': 'https://a.espncdn.com/i/teamlogos/soccer/500/359.png', 'abbreviation': 'ARS'}, 'stats': {'wins': 18, 'losses': 4, 'ties': 4, 'gamesPlayed': 26, 'goalsFor': 62, 'goalsAgainst': 23, 'points': 58, 'rank': 3, 'goalDifference': 39}}\n",
      "{'team': {'name': 'Aston Villa', 'logo': 'https://a.espncdn.com/i/teamlogos/soccer/500/362.png', 'abbreviation': 'AVL'}, 'stats': {'wins': 17, 'losses': 6, 'ties': 4, 'gamesPlayed': 27, 'goalsFor': 59, 'goalsAgainst': 37, 'points': 55, 'rank': 4, 'goalDifference': 22}}\n",
      "{'team': {'name': 'Tottenham Hotspur', 'logo': 'https://a.espncdn.com/i/teamlogos/soccer/500/367.png', 'abbreviation': 'TOT'}, 'stats': {'wins': 15, 'losses': 6, 'ties': 5, 'gamesPlayed': 26, 'goalsFor': 55, 'goalsAgainst': 39, 'points': 50, 'rank': 5, 'goalDifference': 16}}\n",
      "{'team': {'name': 'Manchester United', 'logo': 'https://a.espncdn.com/i/teamlogos/soccer/500/360.png', 'abbreviation': 'MAN'}, 'stats': {'wins': 14, 'losses': 11, 'ties': 2, 'gamesPlayed': 27, 'goalsFor': 37, 'goalsAgainst': 39, 'points': 44, 'rank': 6, 'goalDifference': -2}}\n",
      "{'team': {'name': 'West Ham United', 'logo': 'https://a.espncdn.com/i/teamlogos/soccer/500/371.png', 'abbreviation': 'WHU'}, 'stats': {'wins': 12, 'losses': 9, 'ties': 6, 'gamesPlayed': 27, 'goalsFor': 43, 'goalsAgainst': 47, 'points': 42, 'rank': 7, 'goalDifference': -4}}\n",
      "{'team': {'name': 'Newcastle United', 'logo': 'https://a.espncdn.com/i/teamlogos/soccer/500/361.png', 'abbreviation': 'NEW'}, 'stats': {'wins': 12, 'losses': 11, 'ties': 4, 'gamesPlayed': 27, 'goalsFor': 57, 'goalsAgainst': 45, 'points': 40, 'rank': 8, 'goalDifference': 12}}\n",
      "{'team': {'name': 'Brighton & Hove Albion', 'logo': 'https://a.espncdn.com/i/teamlogos/soccer/500/331.png', 'abbreviation': 'BHA'}, 'stats': {'wins': 10, 'losses': 8, 'ties': 9, 'gamesPlayed': 27, 'goalsFor': 49, 'goalsAgainst': 44, 'points': 39, 'rank': 9, 'goalDifference': 5}}\n",
      "{'team': {'name': 'Wolverhampton Wanderers', 'logo': 'https://a.espncdn.com/i/teamlogos/soccer/500/380.png', 'abbreviation': 'WOL'}, 'stats': {'wins': 11, 'losses': 11, 'ties': 5, 'gamesPlayed': 27, 'goalsFor': 40, 'goalsAgainst': 43, 'points': 38, 'rank': 10, 'goalDifference': -3}}\n",
      "{'team': {'name': 'Chelsea', 'logo': 'https://a.espncdn.com/i/teamlogos/soccer/500/363.png', 'abbreviation': 'CHE'}, 'stats': {'wins': 10, 'losses': 10, 'ties': 6, 'gamesPlayed': 26, 'goalsFor': 44, 'goalsAgainst': 43, 'points': 36, 'rank': 11, 'goalDifference': 1}}\n",
      "{'team': {'name': 'Fulham', 'logo': 'https://a.espncdn.com/i/teamlogos/soccer/500/370.png', 'abbreviation': 'FUL'}, 'stats': {'wins': 10, 'losses': 12, 'ties': 5, 'gamesPlayed': 27, 'goalsFor': 39, 'goalsAgainst': 42, 'points': 35, 'rank': 12, 'goalDifference': -3}}\n",
      "{'team': {'name': 'AFC Bournemouth', 'logo': 'https://a.espncdn.com/i/teamlogos/soccer/500/349.png', 'abbreviation': 'BOU'}, 'stats': {'wins': 8, 'losses': 11, 'ties': 7, 'gamesPlayed': 26, 'goalsFor': 35, 'goalsAgainst': 47, 'points': 31, 'rank': 13, 'goalDifference': -12}}\n",
      "{'team': {'name': 'Crystal Palace', 'logo': 'https://a.espncdn.com/i/teamlogos/soccer/500/384.png', 'abbreviation': 'CRY'}, 'stats': {'wins': 7, 'losses': 13, 'ties': 7, 'gamesPlayed': 27, 'goalsFor': 32, 'goalsAgainst': 47, 'points': 28, 'rank': 14, 'goalDifference': -15}}\n",
      "{'team': {'name': 'Brentford', 'logo': 'https://a.espncdn.com/i/teamlogos/soccer/500/337.png', 'abbreviation': 'BRE'}, 'stats': {'wins': 7, 'losses': 15, 'ties': 5, 'gamesPlayed': 27, 'goalsFor': 39, 'goalsAgainst': 50, 'points': 26, 'rank': 15, 'goalDifference': -11}}\n",
      "{'team': {'name': 'Everton', 'logo': 'https://a.espncdn.com/i/teamlogos/soccer/500/368.png', 'abbreviation': 'EVE'}, 'stats': {'wins': 8, 'losses': 12, 'ties': 7, 'gamesPlayed': 27, 'goalsFor': 29, 'goalsAgainst': 37, 'points': 25, 'rank': 16, 'goalDifference': -8}}\n",
      "{'team': {'name': 'Nottingham Forest', 'logo': 'https://a.espncdn.com/i/teamlogos/soccer/500/393.png', 'abbreviation': 'NFO'}, 'stats': {'wins': 6, 'losses': 15, 'ties': 6, 'gamesPlayed': 27, 'goalsFor': 34, 'goalsAgainst': 49, 'points': 24, 'rank': 17, 'goalDifference': -15}}\n",
      "{'team': {'name': 'Luton Town', 'logo': 'https://a.espncdn.com/i/teamlogos/soccer/500/301.png', 'abbreviation': 'LTN'}, 'stats': {'wins': 5, 'losses': 16, 'ties': 5, 'gamesPlayed': 26, 'goalsFor': 37, 'goalsAgainst': 54, 'points': 20, 'rank': 18, 'goalDifference': -17}}\n",
      "{'team': {'name': 'Burnley', 'logo': 'https://a.espncdn.com/i/teamlogos/soccer/500/379.png', 'abbreviation': 'BUR'}, 'stats': {'wins': 3, 'losses': 20, 'ties': 4, 'gamesPlayed': 27, 'goalsFor': 25, 'goalsAgainst': 60, 'points': 13, 'rank': 19, 'goalDifference': -35}}\n",
      "{'team': {'name': 'Sheffield United', 'logo': 'https://a.espncdn.com/i/teamlogos/soccer/500/398.png', 'abbreviation': 'SHU'}, 'stats': {'wins': 3, 'losses': 19, 'ties': 4, 'gamesPlayed': 26, 'goalsFor': 22, 'goalsAgainst': 66, 'points': 13, 'rank': 20, 'goalDifference': -44}}\n"
     ]
    }
   ],
   "source": [
    "for i in premierleague:\n",
    "    print(i)"
   ]
  },
  {
   "cell_type": "code",
   "execution_count": 20,
   "metadata": {},
   "outputs": [
    {
     "name": "stdout",
     "output_type": "stream",
     "text": [
      "Liverpool 19 2\n",
      "Manchester City 19 3\n",
      "Arsenal 18 4\n",
      "Aston Villa 17 6\n",
      "Tottenham Hotspur 15 6\n",
      "Manchester United 14 11\n",
      "West Ham United 12 9\n",
      "Newcastle United 12 11\n",
      "Brighton & Hove Albion 10 8\n",
      "Wolverhampton Wanderers 11 11\n",
      "Chelsea 10 10\n",
      "Fulham 10 12\n",
      "AFC Bournemouth 8 11\n",
      "Crystal Palace 7 13\n",
      "Brentford 7 15\n",
      "Everton 8 12\n",
      "Nottingham Forest 6 15\n",
      "Luton Town 5 16\n",
      "Burnley 3 20\n",
      "Sheffield United 3 19\n"
     ]
    }
   ],
   "source": [
    "for i in premierleague:\n",
    "    print(i['team']['name'], i['stats']['wins'], i['stats']['losses'])"
   ]
  },
  {
   "cell_type": "code",
   "execution_count": 6,
   "metadata": {},
   "outputs": [
    {
     "ename": "NameError",
     "evalue": "name 'premierleague' is not defined",
     "output_type": "error",
     "traceback": [
      "\u001b[1;31m---------------------------------------------------------------------------\u001b[0m",
      "\u001b[1;31mNameError\u001b[0m                                 Traceback (most recent call last)",
      "Cell \u001b[1;32mIn[6], line 1\u001b[0m\n\u001b[1;32m----> 1\u001b[0m \u001b[38;5;28mlen\u001b[39m(\u001b[43mpremierleague\u001b[49m)\n",
      "\u001b[1;31mNameError\u001b[0m: name 'premierleague' is not defined"
     ]
    }
   ],
   "source": [
    "len(premierleague)"
   ]
  },
  {
   "cell_type": "code",
   "execution_count": null,
   "metadata": {},
   "outputs": [],
   "source": []
  }
 ],
 "metadata": {
  "kernelspec": {
   "display_name": "Python 3",
   "language": "python",
   "name": "python3"
  },
  "language_info": {
   "codemirror_mode": {
    "name": "ipython",
    "version": 3
   },
   "file_extension": ".py",
   "mimetype": "text/x-python",
   "name": "python",
   "nbconvert_exporter": "python",
   "pygments_lexer": "ipython3",
   "version": "3.11.8"
  }
 },
 "nbformat": 4,
 "nbformat_minor": 2
}
